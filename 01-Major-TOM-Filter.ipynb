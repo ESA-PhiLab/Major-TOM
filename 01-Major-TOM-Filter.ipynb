{
 "cells": [
  {
   "cell_type": "code",
   "execution_count": 1,
   "id": "9104ac2c-3dfa-49fe-9dc8-e9c9b733871e",
   "metadata": {},
   "outputs": [],
   "source": [
    "from src import *"
   ]
  },
  {
   "cell_type": "markdown",
   "id": "07d62a92-c115-4364-90f4-b638c347e493",
   "metadata": {},
   "source": [
    "# 🗺️ Major-TOM Filtering\n",
    "[![HF](https://img.shields.io/badge/%F0%9F%A4%97-Datasets-yellow)](https://www.huggingface.co/Major-TOM) [![paper](https://img.shields.io/badge/arXiv-2402.12095-D12424)](https://www.arxiv.org/abs/2402.12095) [![GitHub stars](https://img.shields.io/github/stars/ESA-PhiLab/Major-TOM?style=social&label=Star&maxAge=2592000)](https://github.com/ESA-PhiLab/Major-TOM/)\n",
    "\n",
    "This notebook demonstrates how to access MajorTOM-Core-S2L2A data quickly and filter a subset of interest.\n",
    "\n",
    "Examples:\n",
    "1. Filtering based on location, time, and cloud cover\n",
    "2. Downloading a filtered subset of the dataset\n",
    "3. PyTorch Dataset with a local copy\n",
    "4. HuggingFace `datasets` fast access via streaming"
   ]
  },
  {
   "cell_type": "markdown",
   "id": "21e315fa-1f4d-4f3c-8766-bc6d50732525",
   "metadata": {},
   "source": [
    "### 1. 📅 Filtering based on location, time, and cloud cover\n",
    "First we will download a local copy of the dataset metadata, in this case from `Major-TOM/Core-S2L2a`"
   ]
  },
  {
   "cell_type": "code",
   "execution_count": 2,
   "id": "f518055e-c955-43c6-a5e1-0c05bc657b90",
   "metadata": {},
   "outputs": [
    {
     "data": {
      "text/html": [
       "<div>\n",
       "<style scoped>\n",
       "    .dataframe tbody tr th:only-of-type {\n",
       "        vertical-align: middle;\n",
       "    }\n",
       "\n",
       "    .dataframe tbody tr th {\n",
       "        vertical-align: top;\n",
       "    }\n",
       "\n",
       "    .dataframe thead th {\n",
       "        text-align: right;\n",
       "    }\n",
       "</style>\n",
       "<table border=\"1\" class=\"dataframe\">\n",
       "  <thead>\n",
       "    <tr style=\"text-align: right;\">\n",
       "      <th></th>\n",
       "      <th>grid_cell</th>\n",
       "      <th>grid_row_u</th>\n",
       "      <th>grid_col_r</th>\n",
       "      <th>product_id</th>\n",
       "      <th>timestamp</th>\n",
       "      <th>cloud_cover</th>\n",
       "      <th>nodata</th>\n",
       "      <th>centre_lat</th>\n",
       "      <th>centre_lon</th>\n",
       "      <th>crs</th>\n",
       "      <th>parquet_url</th>\n",
       "      <th>parquet_row</th>\n",
       "      <th>geometry</th>\n",
       "    </tr>\n",
       "  </thead>\n",
       "  <tbody>\n",
       "    <tr>\n",
       "      <th>0</th>\n",
       "      <td>922D_249L</td>\n",
       "      <td>-922</td>\n",
       "      <td>-249</td>\n",
       "      <td>S2A_MSIL2A_20230119T161811_N0509_R111_T01CDJ_2...</td>\n",
       "      <td>2023-01-19 16:18:11</td>\n",
       "      <td>18.941737</td>\n",
       "      <td>0.0</td>\n",
       "      <td>-82.770666</td>\n",
       "      <td>-178.200331</td>\n",
       "      <td>EPSG:32701</td>\n",
       "      <td>https://huggingface.co/datasets/Major-TOM/Core...</td>\n",
       "      <td>0</td>\n",
       "      <td>POINT (-178.200 -82.771)</td>\n",
       "    </tr>\n",
       "    <tr>\n",
       "      <th>1</th>\n",
       "      <td>922D_245L</td>\n",
       "      <td>-922</td>\n",
       "      <td>-245</td>\n",
       "      <td>S2B_MSIL2A_20181219T162339_N9999_R011_T01CEJ_2...</td>\n",
       "      <td>2018-12-19 16:23:39</td>\n",
       "      <td>22.742201</td>\n",
       "      <td>0.0</td>\n",
       "      <td>-82.768451</td>\n",
       "      <td>-175.349546</td>\n",
       "      <td>EPSG:32701</td>\n",
       "      <td>https://huggingface.co/datasets/Major-TOM/Core...</td>\n",
       "      <td>1</td>\n",
       "      <td>POINT (-175.350 -82.768)</td>\n",
       "    </tr>\n",
       "    <tr>\n",
       "      <th>2</th>\n",
       "      <td>922D_244L</td>\n",
       "      <td>-922</td>\n",
       "      <td>-244</td>\n",
       "      <td>S2A_MSIL2A_20200119T155811_N9999_R025_T01CEJ_2...</td>\n",
       "      <td>2020-01-19 15:58:11</td>\n",
       "      <td>0.000000</td>\n",
       "      <td>0.0</td>\n",
       "      <td>-82.767914</td>\n",
       "      <td>-174.636985</td>\n",
       "      <td>EPSG:32701</td>\n",
       "      <td>https://huggingface.co/datasets/Major-TOM/Core...</td>\n",
       "      <td>2</td>\n",
       "      <td>POINT (-174.637 -82.768)</td>\n",
       "    </tr>\n",
       "    <tr>\n",
       "      <th>3</th>\n",
       "      <td>922D_243L</td>\n",
       "      <td>-922</td>\n",
       "      <td>-243</td>\n",
       "      <td>S2A_MSIL2A_20210103T155811_N9999_R025_T01CEJ_2...</td>\n",
       "      <td>2021-01-03 15:58:11</td>\n",
       "      <td>3.769691</td>\n",
       "      <td>0.0</td>\n",
       "      <td>-82.767385</td>\n",
       "      <td>-173.924477</td>\n",
       "      <td>EPSG:32701</td>\n",
       "      <td>https://huggingface.co/datasets/Major-TOM/Core...</td>\n",
       "      <td>3</td>\n",
       "      <td>POINT (-173.924 -82.767)</td>\n",
       "    </tr>\n",
       "    <tr>\n",
       "      <th>4</th>\n",
       "      <td>922D_242L</td>\n",
       "      <td>-922</td>\n",
       "      <td>-242</td>\n",
       "      <td>S2B_MSIL2A_20181220T155319_N9999_R025_T01CEJ_2...</td>\n",
       "      <td>2018-12-20 15:53:19</td>\n",
       "      <td>0.000000</td>\n",
       "      <td>0.0</td>\n",
       "      <td>-82.766864</td>\n",
       "      <td>-173.212021</td>\n",
       "      <td>EPSG:32701</td>\n",
       "      <td>https://huggingface.co/datasets/Major-TOM/Core...</td>\n",
       "      <td>4</td>\n",
       "      <td>POINT (-173.212 -82.767)</td>\n",
       "    </tr>\n",
       "  </tbody>\n",
       "</table>\n",
       "</div>"
      ],
      "text/plain": [
       "   grid_cell  grid_row_u  grid_col_r  \\\n",
       "0  922D_249L        -922        -249   \n",
       "1  922D_245L        -922        -245   \n",
       "2  922D_244L        -922        -244   \n",
       "3  922D_243L        -922        -243   \n",
       "4  922D_242L        -922        -242   \n",
       "\n",
       "                                          product_id           timestamp  \\\n",
       "0  S2A_MSIL2A_20230119T161811_N0509_R111_T01CDJ_2... 2023-01-19 16:18:11   \n",
       "1  S2B_MSIL2A_20181219T162339_N9999_R011_T01CEJ_2... 2018-12-19 16:23:39   \n",
       "2  S2A_MSIL2A_20200119T155811_N9999_R025_T01CEJ_2... 2020-01-19 15:58:11   \n",
       "3  S2A_MSIL2A_20210103T155811_N9999_R025_T01CEJ_2... 2021-01-03 15:58:11   \n",
       "4  S2B_MSIL2A_20181220T155319_N9999_R025_T01CEJ_2... 2018-12-20 15:53:19   \n",
       "\n",
       "   cloud_cover  nodata  centre_lat  centre_lon         crs  \\\n",
       "0    18.941737     0.0  -82.770666 -178.200331  EPSG:32701   \n",
       "1    22.742201     0.0  -82.768451 -175.349546  EPSG:32701   \n",
       "2     0.000000     0.0  -82.767914 -174.636985  EPSG:32701   \n",
       "3     3.769691     0.0  -82.767385 -173.924477  EPSG:32701   \n",
       "4     0.000000     0.0  -82.766864 -173.212021  EPSG:32701   \n",
       "\n",
       "                                         parquet_url  parquet_row  \\\n",
       "0  https://huggingface.co/datasets/Major-TOM/Core...            0   \n",
       "1  https://huggingface.co/datasets/Major-TOM/Core...            1   \n",
       "2  https://huggingface.co/datasets/Major-TOM/Core...            2   \n",
       "3  https://huggingface.co/datasets/Major-TOM/Core...            3   \n",
       "4  https://huggingface.co/datasets/Major-TOM/Core...            4   \n",
       "\n",
       "                   geometry  \n",
       "0  POINT (-178.200 -82.771)  \n",
       "1  POINT (-175.350 -82.768)  \n",
       "2  POINT (-174.637 -82.768)  \n",
       "3  POINT (-173.924 -82.767)  \n",
       "4  POINT (-173.212 -82.767)  "
      ]
     },
     "execution_count": 2,
     "metadata": {},
     "output_type": "execute_result"
    }
   ],
   "source": [
    "from pathlib import Path\n",
    "import urllib.request\n",
    "\n",
    "SOURCE_DATASET = 'Major-TOM/Core-S2L2A' # Identify HF Dataset\n",
    "DATASET_DIR = Path('./data/Major-TOM/')\n",
    "DATASET_DIR.mkdir(exist_ok=True, parents=True)\n",
    "ACCESS_URL = 'https://huggingface.co/datasets/{}/resolve/main/metadata.parquet?download=true'.format(SOURCE_DATASET)\n",
    "LOCAL_URL = DATASET_DIR / '{}.parquet'.format(ACCESS_URL.split('.parquet')[0].split('/')[-1])\n",
    "\n",
    "# download from server to local url\n",
    "gdf = metadata_from_url(ACCESS_URL, LOCAL_URL)\n",
    "\n",
    "gdf.head()"
   ]
  },
  {
   "cell_type": "markdown",
   "id": "9bd69033-12dc-4236-8724-65d7ebac4ff9",
   "metadata": {},
   "source": [
    "Then, we can specify a few regions using shapely geometry, for example:"
   ]
  },
  {
   "cell_type": "code",
   "execution_count": 3,
   "id": "f8a0fcff-7df1-466d-9109-b4a64f7daf32",
   "metadata": {},
   "outputs": [],
   "source": [
    "from shapely.geometry import box\n",
    "\n",
    "# Example bounding boxes used for filtering\n",
    "switzerland = box(5.9559111595,45.8179931641,10.4920501709,47.808380127)\n",
    "gabon = box(8.1283659854,-4.9213919841,15.1618722208,2.7923006325)\n",
    "napoli = box(14.091710578,40.7915558593,14.3723765416,40.9819258062)\n",
    "pacific = box(-153.3922893485,39.6170415622,-152.0423077748,40.7090892316) # a remote patch over pacific - no data"
   ]
  },
  {
   "cell_type": "markdown",
   "id": "0a250931-602d-4b9b-a974-19b713712e36",
   "metadata": {},
   "source": [
    "and then use it via our `filter_metadata` function - let's try to get some recent images around ⚽🍕 Napoli!"
   ]
  },
  {
   "cell_type": "code",
   "execution_count": 4,
   "id": "fb50b0db-249a-42e7-ac2f-b18ca682a5c7",
   "metadata": {},
   "outputs": [
    {
     "data": {
      "text/html": [
       "<div>\n",
       "<style scoped>\n",
       "    .dataframe tbody tr th:only-of-type {\n",
       "        vertical-align: middle;\n",
       "    }\n",
       "\n",
       "    .dataframe tbody tr th {\n",
       "        vertical-align: top;\n",
       "    }\n",
       "\n",
       "    .dataframe thead th {\n",
       "        text-align: right;\n",
       "    }\n",
       "</style>\n",
       "<table border=\"1\" class=\"dataframe\">\n",
       "  <thead>\n",
       "    <tr style=\"text-align: right;\">\n",
       "      <th></th>\n",
       "      <th>grid_cell</th>\n",
       "      <th>grid_row_u</th>\n",
       "      <th>grid_col_r</th>\n",
       "      <th>product_id</th>\n",
       "      <th>timestamp</th>\n",
       "      <th>cloud_cover</th>\n",
       "      <th>nodata</th>\n",
       "      <th>centre_lat</th>\n",
       "      <th>centre_lon</th>\n",
       "      <th>crs</th>\n",
       "      <th>parquet_url</th>\n",
       "      <th>parquet_row</th>\n",
       "      <th>geometry</th>\n",
       "    </tr>\n",
       "  </thead>\n",
       "  <tbody>\n",
       "    <tr>\n",
       "      <th>1593374</th>\n",
       "      <td>454U_120R</td>\n",
       "      <td>454</td>\n",
       "      <td>120</td>\n",
       "      <td>S2B_MSIL2A_20220719T095559_N0400_R122_T33TVF_2...</td>\n",
       "      <td>2022-07-19 09:55:59</td>\n",
       "      <td>0.0</td>\n",
       "      <td>0.0</td>\n",
       "      <td>40.823861</td>\n",
       "      <td>14.292709</td>\n",
       "      <td>EPSG:32633</td>\n",
       "      <td>https://huggingface.co/datasets/Major-TOM/Core...</td>\n",
       "      <td>455</td>\n",
       "      <td>POINT (14.293 40.824)</td>\n",
       "    </tr>\n",
       "    <tr>\n",
       "      <th>1595266</th>\n",
       "      <td>455U_120R</td>\n",
       "      <td>455</td>\n",
       "      <td>120</td>\n",
       "      <td>S2B_MSIL2A_20220719T095559_N0400_R122_T33TVF_2...</td>\n",
       "      <td>2022-07-19 09:55:59</td>\n",
       "      <td>0.0</td>\n",
       "      <td>0.0</td>\n",
       "      <td>40.913671</td>\n",
       "      <td>14.311585</td>\n",
       "      <td>EPSG:32633</td>\n",
       "      <td>https://huggingface.co/datasets/Major-TOM/Core...</td>\n",
       "      <td>347</td>\n",
       "      <td>POINT (14.312 40.914)</td>\n",
       "    </tr>\n",
       "    <tr>\n",
       "      <th>1595265</th>\n",
       "      <td>455U_119R</td>\n",
       "      <td>455</td>\n",
       "      <td>119</td>\n",
       "      <td>S2A_MSIL2A_20200113T095351_N0500_R079_T33TVF_2...</td>\n",
       "      <td>2020-01-13 09:53:51</td>\n",
       "      <td>0.0</td>\n",
       "      <td>0.0</td>\n",
       "      <td>40.913731</td>\n",
       "      <td>14.192730</td>\n",
       "      <td>EPSG:32633</td>\n",
       "      <td>https://huggingface.co/datasets/Major-TOM/Core...</td>\n",
       "      <td>346</td>\n",
       "      <td>POINT (14.193 40.914)</td>\n",
       "    </tr>\n",
       "  </tbody>\n",
       "</table>\n",
       "</div>"
      ],
      "text/plain": [
       "         grid_cell  grid_row_u  grid_col_r  \\\n",
       "1593374  454U_120R         454         120   \n",
       "1595266  455U_120R         455         120   \n",
       "1595265  455U_119R         455         119   \n",
       "\n",
       "                                                product_id  \\\n",
       "1593374  S2B_MSIL2A_20220719T095559_N0400_R122_T33TVF_2...   \n",
       "1595266  S2B_MSIL2A_20220719T095559_N0400_R122_T33TVF_2...   \n",
       "1595265  S2A_MSIL2A_20200113T095351_N0500_R079_T33TVF_2...   \n",
       "\n",
       "                  timestamp  cloud_cover  nodata  centre_lat  centre_lon  \\\n",
       "1593374 2022-07-19 09:55:59          0.0     0.0   40.823861   14.292709   \n",
       "1595266 2022-07-19 09:55:59          0.0     0.0   40.913671   14.311585   \n",
       "1595265 2020-01-13 09:53:51          0.0     0.0   40.913731   14.192730   \n",
       "\n",
       "                crs                                        parquet_url  \\\n",
       "1593374  EPSG:32633  https://huggingface.co/datasets/Major-TOM/Core...   \n",
       "1595266  EPSG:32633  https://huggingface.co/datasets/Major-TOM/Core...   \n",
       "1595265  EPSG:32633  https://huggingface.co/datasets/Major-TOM/Core...   \n",
       "\n",
       "         parquet_row               geometry  \n",
       "1593374          455  POINT (14.293 40.824)  \n",
       "1595266          347  POINT (14.312 40.914)  \n",
       "1595265          346  POINT (14.193 40.914)  "
      ]
     },
     "execution_count": 4,
     "metadata": {},
     "output_type": "execute_result"
    }
   ],
   "source": [
    "filtered_df = filter_metadata(gdf,\n",
    "                              cloud_cover = (0,10), # cloud cover between 0% and 10%\n",
    "                              region=napoli, # you can try with different bounding boxes, like in the cell above\n",
    "                              daterange=('2020-01-01', '2025-01-01'), # temporal range\n",
    "                              nodata=(0.0,0.0) # only 0% of no data allowed\n",
    "                              )\n",
    "\n",
    "filtered_df.head()"
   ]
  },
  {
   "cell_type": "markdown",
   "id": "f99ca466-c540-4bfa-b878-09e0dc14b752",
   "metadata": {},
   "source": [
    "Any row from the metadata can be very easily read into a `dict` of numpy arrays using our `read_row` function:"
   ]
  },
  {
   "cell_type": "code",
   "execution_count": 5,
   "id": "c72f3406-c23d-4f54-b589-45b6511cb9fa",
   "metadata": {},
   "outputs": [
    {
     "name": "stderr",
     "output_type": "stream",
     "text": [
      "/home/mczerkawski/mambaforge/envs/miko-torch/lib/python3.8/site-packages/fsspec/parquet.py:225: UserWarning: Not enough data was used to sample the parquet footer. Try setting footer_sample_size >= 1031336.\n",
      "  warnings.warn(\n"
     ]
    }
   ],
   "source": [
    "out = read_row(filtered_df.iloc[0], columns = ['B04', 'thumbnail'])"
   ]
  },
  {
   "cell_type": "markdown",
   "id": "9dd6b002-9f55-4c76-8bbd-b1bbcdb81667",
   "metadata": {},
   "source": [
    "### 📩 Downloading a filtered subset of the dataset\n",
    "\n",
    "Use the `filter_download` function to download all files to the local directory at `local_dir`. Your new dataset will be named using `source_name`.\n",
    "\n",
    "More importantly, the `by_row` option allows to download specific rows from the archives. Set it to `True`, if you think you will take only a few files from each parquet file (most parquet files contain samples that are close to each other in space).\n",
    "\n",
    "If you expect to take most of the samples from the parquet file, setting `by_row` to `False` will probably be quicker (you then download the data as the entire file, before you rearrange it onto folders with only the files from your dataframe)."
   ]
  },
  {
   "cell_type": "code",
   "execution_count": 6,
   "id": "335ab665-8238-4f17-ab4b-0bcb1fa38224",
   "metadata": {},
   "outputs": [
    {
     "data": {
      "application/vnd.jupyter.widget-view+json": {
       "model_id": "65d9977fc85e48ecaa59656b655b97e5",
       "version_major": 2,
       "version_minor": 0
      },
      "text/plain": [
       "Downloading and unpacking...:   0%|          | 0/2 [00:00<?, ?it/s]"
      ]
     },
     "metadata": {},
     "output_type": "display_data"
    }
   ],
   "source": [
    "filter_download(filtered_df, local_dir='./data/', source_name='L2A', by_row=True)"
   ]
  },
  {
   "cell_type": "markdown",
   "id": "1446cd8a-ec7d-44ac-a93b-37ec0d784e8a",
   "metadata": {},
   "source": [
    "You can now check your local directory for the local version of your dataset!"
   ]
  },
  {
   "cell_type": "markdown",
   "id": "230d268c-1bbb-4249-8b93-b96edb0b5fdb",
   "metadata": {},
   "source": [
    "### 🔥 PyTorch Dataset with a local copy\n",
    "We can use it directly with our `PyTorch` definition of the Dataset `MajorTOM`, just supply the metadata file and teh directory of the files:"
   ]
  },
  {
   "cell_type": "code",
   "execution_count": 7,
   "id": "69b33084-cc9c-4b4e-acff-e6b68e64ab5d",
   "metadata": {},
   "outputs": [
    {
     "data": {
      "text/plain": [
       "{'meta': grid_cell                                              454U_120R\n",
       " grid_row_u                                                   454\n",
       " grid_col_r                                                   120\n",
       " product_id     S2B_MSIL2A_20220719T095559_N0400_R122_T33TVF_2...\n",
       " timestamp                                    2022-07-19 09:55:59\n",
       " cloud_cover                                                  0.0\n",
       " nodata                                                       0.0\n",
       " centre_lat                                             40.823861\n",
       " centre_lon                                             14.292709\n",
       " crs                                                   EPSG:32633\n",
       " parquet_url    https://huggingface.co/datasets/Major-TOM/Core...\n",
       " parquet_row                                                  455\n",
       " geometry             POINT (14.29270867998482 40.82386055223662)\n",
       " Name: 1593374, dtype: object,\n",
       " 'B04': array([[[1563, 1437, 1466, ..., 2152, 2128, 2482],\n",
       "         [1463, 1468, 1722, ..., 2418, 2334, 2214],\n",
       "         [1496, 1677, 1882, ..., 3104, 2832, 2546],\n",
       "         ...,\n",
       "         [2014, 2046, 1900, ..., 1944, 1958, 1924],\n",
       "         [2080, 2104, 1834, ..., 1921, 1974, 1954],\n",
       "         [2102, 2110, 1847, ..., 1927, 1938, 1919]]], dtype=uint16),\n",
       " 'B03': array([[[1618, 1608, 1590, ..., 1982, 2082, 2158],\n",
       "         [1568, 1617, 1786, ..., 2110, 2132, 1978],\n",
       "         [1598, 1714, 1842, ..., 2172, 2350, 2252],\n",
       "         ...,\n",
       "         [1971, 2023, 1944, ..., 2050, 1990, 1970],\n",
       "         [2096, 1969, 1892, ..., 2034, 2010, 1968],\n",
       "         [2142, 2028, 1959, ..., 2016, 2010, 1975]]], dtype=uint16),\n",
       " 'B02': array([[[1473, 1470, 1375, ..., 1830, 1825, 1808],\n",
       "         [1388, 1403, 1520, ..., 1932, 1880, 1867],\n",
       "         [1407, 1488, 1636, ..., 2007, 2108, 1954],\n",
       "         ...,\n",
       "         [2164, 2142, 1954, ..., 2044, 1924, 1888],\n",
       "         [2052, 2102, 1866, ..., 2007, 1959, 1957],\n",
       "         [2090, 2130, 1956, ..., 2000, 1962, 1966]]], dtype=uint16),\n",
       " 'thumbnail': <PIL.JpegImagePlugin.JpegImageFile image mode=RGB size=1068x1068>}"
      ]
     },
     "execution_count": 7,
     "metadata": {},
     "output_type": "execute_result"
    }
   ],
   "source": [
    "ds = MajorTOM(filtered_df, './data/L2A')\n",
    "\n",
    "ds[0]"
   ]
  },
  {
   "cell_type": "markdown",
   "id": "6a6bc08e-1c90-48be-b2db-8de0bf1ee339",
   "metadata": {},
   "source": [
    "### Ecco!"
   ]
  },
  {
   "cell_type": "code",
   "execution_count": null,
   "id": "e06eccad-7a91-4b63-944b-b6e94bf28a2c",
   "metadata": {},
   "outputs": [],
   "source": [
    "ds[0]['thumbnail']"
   ]
  },
  {
   "cell_type": "markdown",
   "id": "e95cd4bb-1d8c-421d-86c5-aaad57937f7d",
   "metadata": {},
   "source": [
    "### HuggingFace `datasets` fast access via streaming\n",
    "First let's start with an example of very quick access *without* any filtering using HuggingFace `datasets` library with `streaming=True` functionality:"
   ]
  },
  {
   "cell_type": "code",
   "execution_count": null,
   "id": "3b7628dc-ab7f-4370-b0ff-2ed3c5b1db8e",
   "metadata": {},
   "outputs": [],
   "source": [
    "import datasets\n",
    "\n",
    "ds = datasets.load_dataset('Major-TOM/Core-S2L2A', streaming=True)['train']"
   ]
  },
  {
   "cell_type": "code",
   "execution_count": null,
   "id": "d6010265-7297-4dff-a81c-a032bc62965e",
   "metadata": {},
   "outputs": [],
   "source": [
    "sample = next(iter(ds))"
   ]
  },
  {
   "cell_type": "markdown",
   "id": "484fb1fa-f960-4af9-93ee-4dd04a6ca488",
   "metadata": {},
   "source": [
    "> Note that the first few thousand samples are near the South pole, so they tend to be quite bright! You can recover more information from the original tif files!"
   ]
  },
  {
   "cell_type": "code",
   "execution_count": null,
   "id": "3749fddb-469f-4afd-b789-17c604990bf2",
   "metadata": {},
   "outputs": [],
   "source": [
    "plot(sample)"
   ]
  },
  {
   "cell_type": "markdown",
   "id": "461f64ec-67e0-4411-ac31-09c298c77a55",
   "metadata": {},
   "source": [
    "## Alternative: Filter by points : 🌋 MajorTOM-Volcano\n",
    "In case you are interested in retrieving all Major-TOM samples that contain specific points of interest, you can also use the `filter_metadata` in an alternative way.\n",
    "\n",
    "First, let's use an example data that contains multiple points with reference latitude and longitude coordinates (here, we focus on volcanoes):"
   ]
  },
  {
   "cell_type": "code",
   "execution_count": null,
   "id": "92d685bc-15be-4910-af93-52441a78cf69",
   "metadata": {},
   "outputs": [],
   "source": [
    "import pandas as pd\n",
    "\n",
    "# Volcano example database from plotly - hopefully you can still access the file at the time of use\n",
    "query_df = pd.read_csv('https://raw.githubusercontent.com/plotly/datasets/master/volcano_db.csv', encoding=\"ISO-8859-1\")\n",
    "\n",
    "query_df.head()"
   ]
  },
  {
   "cell_type": "markdown",
   "id": "85f9943c-839d-4b50-904f-7f77641a53cf",
   "metadata": {},
   "source": [
    "We can easily build a reference object of the Major-TOM grid to **transform these coordinates** to cells in Major-TOM grid:"
   ]
  },
  {
   "cell_type": "code",
   "execution_count": null,
   "id": "441b50c4-0cc4-46d7-82fa-adaa74abfb0e",
   "metadata": {},
   "outputs": [],
   "source": [
    "from src.grid import *\n",
    "\n",
    "# This might take a few seconds to initialise!\n",
    "MT_grid = Grid(10) # 10 is the 10 km grid, which we use by default"
   ]
  },
  {
   "cell_type": "markdown",
   "id": "749b0e59-82c0-4236-8e52-36cd765563be",
   "metadata": {},
   "source": [
    "We can use `latlon2rowcol` method to get the Major-TOM grid coordinates, and then append this information to our `query_df`, to effectively turn it into a Major-TOM dataset:"
   ]
  },
  {
   "cell_type": "code",
   "execution_count": null,
   "id": "d4344fc9-4480-4db2-a07c-3bef48aba732",
   "metadata": {},
   "outputs": [],
   "source": [
    "# Get rows and cols\n",
    "rows,cols = MT_grid.latlon2rowcol(data.Latitude.tolist(),\n",
    "                                  data.Longitude.tolist())\n",
    "\n",
    "# Combine into a string '[]U_[]R'\n",
    "points = ['{}_{}'.format(i,j) for i, j in zip(rows,cols)]\n",
    "\n",
    "query_df['grid_cell'] = points\n",
    "query_df.head()"
   ]
  },
  {
   "cell_type": "markdown",
   "id": "fcd92379-e877-409a-bd51-c99cffdc1396",
   "metadata": {},
   "source": [
    "We can also filter the Major-TOM metadata file to reduce it only to the relevant samples:"
   ]
  },
  {
   "cell_type": "code",
   "execution_count": null,
   "id": "f8a693db-e9c0-495c-83ce-1685359d04e0",
   "metadata": {},
   "outputs": [],
   "source": [
    "filtered_df = gdf[gdf.grid_cell.isin(points)]\n",
    "filtered_df.head()"
   ]
  },
  {
   "cell_type": "markdown",
   "id": "47761ec9-d753-4510-9581-f40c5fae2222",
   "metadata": {},
   "source": [
    "Finally, we can now explore some samples of interest, like below:"
   ]
  },
  {
   "cell_type": "code",
   "execution_count": null,
   "id": "46db4e99-9186-40df-8a35-3d8c28688317",
   "metadata": {},
   "outputs": [],
   "source": [
    "sample = query_df.iloc[0]\n",
    "\n",
    "out = read_row(filtered_df[filtered_df.grid_cell==sample.grid_cell].iloc[0],\n",
    "               columns = ['B04', 'thumbnail'])\n",
    "\n",
    "print(sample)\n",
    "out['thumbnail']"
   ]
  },
  {
   "cell_type": "markdown",
   "id": "66992e51-d8ec-4ed4-acf9-a943667999cd",
   "metadata": {},
   "source": [
    "...and similarly to above, you can download a local copy of the Major-TOM dataset from a filtered dataframe:"
   ]
  },
  {
   "cell_type": "code",
   "execution_count": 87,
   "id": "ebe7a8aa-321a-4eb0-ba56-c3763f2d679e",
   "metadata": {},
   "outputs": [
    {
     "data": {
      "application/vnd.jupyter.widget-view+json": {
       "model_id": "a86d8e078d37481f9a6f084862929342",
       "version_major": 2,
       "version_minor": 0
      },
      "text/plain": [
       "Downloading and unpacking...:   0%|          | 0/970 [00:00<?, ?it/s]"
      ]
     },
     "metadata": {},
     "output_type": "display_data"
    },
    {
     "name": "stderr",
     "output_type": "stream",
     "text": [
      "\n",
      "KeyboardInterrupt\n",
      "\n"
     ]
    }
   ],
   "source": [
    "filter_download(filtered_df, local_dir='./data/', source_name='L2A', by_row=True)"
   ]
  },
  {
   "cell_type": "code",
   "execution_count": null,
   "id": "5221b4df-e9b1-4a84-a270-1eb0eafce8d1",
   "metadata": {},
   "outputs": [],
   "source": []
  }
 ],
 "metadata": {
  "kernelspec": {
   "display_name": "Python [conda env:miko-torch] *",
   "language": "python",
   "name": "conda-env-miko-torch-py"
  },
  "language_info": {
   "codemirror_mode": {
    "name": "ipython",
    "version": 3
   },
   "file_extension": ".py",
   "mimetype": "text/x-python",
   "name": "python",
   "nbconvert_exporter": "python",
   "pygments_lexer": "ipython3",
   "version": "3.8.17"
  }
 },
 "nbformat": 4,
 "nbformat_minor": 5
}
