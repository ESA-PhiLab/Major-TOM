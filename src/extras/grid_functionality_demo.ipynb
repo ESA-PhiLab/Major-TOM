{
 "cells": [
  {
   "cell_type": "markdown",
   "metadata": {},
   "source": [
    "# # Grid System Added Functionality Demonstration\n",
    "# This notebook demonstrates the usage and functionality of the updated `grid.py` script."
   ]
  },
  {
   "cell_type": "code",
   "execution_count": 1,
   "metadata": {},
   "outputs": [],
   "source": [
    "\n",
    "# ## Imports and Setup\n",
    "# Import required modules and initialize the grid.\n",
    "\n",
    "import os\n",
    "import geopandas as gpd\n",
    "import matplotlib.pyplot as plt\n",
    "\n"
   ]
  },
  {
   "cell_type": "code",
   "execution_count": 2,
   "metadata": {},
   "outputs": [],
   "source": [
    "import sys\n",
    "sys.path.append(os.path.abspath(os.path.join(os.getcwd(), '..')))\n",
    "\n",
    "# Import the grid module\n",
    "from grid import * #Grid, merge_utm_files_to_wgs84, ensure_file_extension"
   ]
  },
  {
   "cell_type": "code",
   "execution_count": 3,
   "metadata": {},
   "outputs": [],
   "source": [
    "# provide a folder path to the output folder\n",
    "# ### Create Output Directory\n",
    "# Set up directories to save output files.\n",
    "output_folder = \"test_output\"\n",
    "os.makedirs(output_folder, exist_ok=True)\n",
    "\n"
   ]
  },
  {
   "cell_type": "code",
   "execution_count": 4,
   "metadata": {},
   "outputs": [
    {
     "name": "stdout",
     "output_type": "stream",
     "text": [
      "Grid initialized with resolution: 10 km\n"
     ]
    }
   ],
   "source": [
    "\n",
    "# ### Initialize Grid\n",
    "# Create a `Grid` object with a 10 km grid resolution.\n",
    "dist = 10  # Grid resolution in kilometers\n",
    "grid = Grid(dist)\n",
    "print(\"Grid initialized with resolution:\", dist, \"km\")"
   ]
  },
  {
   "cell_type": "code",
   "execution_count": 5,
   "metadata": {},
   "outputs": [
    {
     "name": "stdout",
     "output_type": "stream",
     "text": [
      "Grid points (sample):\n"
     ]
    },
    {
     "data": {
      "text/html": [
       "<div>\n",
       "<style scoped>\n",
       "    .dataframe tbody tr th:only-of-type {\n",
       "        vertical-align: middle;\n",
       "    }\n",
       "\n",
       "    .dataframe tbody tr th {\n",
       "        vertical-align: top;\n",
       "    }\n",
       "\n",
       "    .dataframe thead th {\n",
       "        text-align: right;\n",
       "    }\n",
       "</style>\n",
       "<table border=\"1\" class=\"dataframe\">\n",
       "  <thead>\n",
       "    <tr style=\"text-align: right;\">\n",
       "      <th></th>\n",
       "      <th>grid_cell</th>\n",
       "      <th>row</th>\n",
       "      <th>col</th>\n",
       "      <th>row_idx</th>\n",
       "      <th>col_idx</th>\n",
       "      <th>utm_zone</th>\n",
       "      <th>utm_crs</th>\n",
       "      <th>geometry</th>\n",
       "    </tr>\n",
       "  </thead>\n",
       "  <tbody>\n",
       "    <tr>\n",
       "      <th>0</th>\n",
       "      <td>946D_176L</td>\n",
       "      <td>946D</td>\n",
       "      <td>176L</td>\n",
       "      <td>0</td>\n",
       "      <td>0</td>\n",
       "      <td>32701</td>\n",
       "      <td>EPSG:32701</td>\n",
       "      <td>POINT (-180.00000 -84.97006)</td>\n",
       "    </tr>\n",
       "    <tr>\n",
       "      <th>1</th>\n",
       "      <td>946D_175L</td>\n",
       "      <td>946D</td>\n",
       "      <td>175L</td>\n",
       "      <td>0</td>\n",
       "      <td>1</td>\n",
       "      <td>32701</td>\n",
       "      <td>EPSG:32701</td>\n",
       "      <td>POINT (-178.97727 -84.97006)</td>\n",
       "    </tr>\n",
       "    <tr>\n",
       "      <th>2</th>\n",
       "      <td>946D_174L</td>\n",
       "      <td>946D</td>\n",
       "      <td>174L</td>\n",
       "      <td>0</td>\n",
       "      <td>2</td>\n",
       "      <td>32701</td>\n",
       "      <td>EPSG:32701</td>\n",
       "      <td>POINT (-177.95455 -84.97006)</td>\n",
       "    </tr>\n",
       "    <tr>\n",
       "      <th>3</th>\n",
       "      <td>946D_173L</td>\n",
       "      <td>946D</td>\n",
       "      <td>173L</td>\n",
       "      <td>0</td>\n",
       "      <td>3</td>\n",
       "      <td>32701</td>\n",
       "      <td>EPSG:32701</td>\n",
       "      <td>POINT (-176.93182 -84.97006)</td>\n",
       "    </tr>\n",
       "    <tr>\n",
       "      <th>4</th>\n",
       "      <td>946D_172L</td>\n",
       "      <td>946D</td>\n",
       "      <td>172L</td>\n",
       "      <td>0</td>\n",
       "      <td>4</td>\n",
       "      <td>32701</td>\n",
       "      <td>EPSG:32701</td>\n",
       "      <td>POINT (-175.90909 -84.97006)</td>\n",
       "    </tr>\n",
       "  </tbody>\n",
       "</table>\n",
       "</div>"
      ],
      "text/plain": [
       "   grid_cell   row   col  row_idx  col_idx utm_zone     utm_crs  \\\n",
       "0  946D_176L  946D  176L        0        0    32701  EPSG:32701   \n",
       "1  946D_175L  946D  175L        0        1    32701  EPSG:32701   \n",
       "2  946D_174L  946D  174L        0        2    32701  EPSG:32701   \n",
       "3  946D_173L  946D  173L        0        3    32701  EPSG:32701   \n",
       "4  946D_172L  946D  172L        0        4    32701  EPSG:32701   \n",
       "\n",
       "                       geometry  \n",
       "0  POINT (-180.00000 -84.97006)  \n",
       "1  POINT (-178.97727 -84.97006)  \n",
       "2  POINT (-177.95455 -84.97006)  \n",
       "3  POINT (-176.93182 -84.97006)  \n",
       "4  POINT (-175.90909 -84.97006)  "
      ]
     },
     "execution_count": 5,
     "metadata": {},
     "output_type": "execute_result"
    }
   ],
   "source": [
    "# ## Generate Grid and Points\n",
    "# Display the first few rows of the grid points.\n",
    "grid_points = grid.points\n",
    "print(\"Grid points (sample):\")\n",
    "grid_points.head()"
   ]
  },
  {
   "cell_type": "code",
   "execution_count": 6,
   "metadata": {},
   "outputs": [
    {
     "name": "stdout",
     "output_type": "stream",
     "text": [
      "Footprint for grid cell 946D_176L:\n",
      "POLYGON ((480986.97927458223 562504.1200605556, 480986.97927458223 573184.1200605556, 470306.97927458223 573184.1200605556, 470306.97927458223 562504.1200605556, 480986.97927458223 562504.1200605556))\n",
      "Subset of grid points with footprints:\n",
      "       grid_cell                                      utm_footprint\n",
      "2389   322D_635R  POLYGON ((721428.378041 6798369.184628, 721428...\n",
      "2902     0U_898R  POLYGON ((2507401.749273 9999660, 2507401.7492...\n",
      "85    632U_1013L  POLYGON ((3321495.912167 22592161.866856, 3321...\n",
      "665   121U_1303L  POLYGON ((748303.70546 28793323.915129, 748303...\n",
      "782    15U_1221L  POLYGON ((-304183.851526 29845446.444146, -304...\n",
      "3436  169U_1502R  POLYGON ((11557199.604514 15606109.726045, 115...\n",
      "339   449D_1189L  POLYGON ((2477258.195161 -5267955.752287, 2477...\n",
      "273   188U_1644L  POLYGON ((4738947.216293 27681556.244205, 4738...\n",
      "2582   118U_612R  POLYGON ((-266123.978933 11180138.349109, -266...\n",
      "2802    59D_807R  POLYGON ((1600783.111277 9405228.375646, 16007...\n"
     ]
    }
   ],
   "source": [
    "# ## Test Footprint for a Single Grid Cell\n",
    "# Demonstrate how to retrieve the footprint for a single grid cell.\n",
    "sample_grid_cell = grid.points['grid_cell'].iloc[0]  # Use the first grid cell\n",
    "footprint = grid.get_product_outline_for_cell(grid_cell=sample_grid_cell)\n",
    "\n",
    "print(f\"Footprint for grid cell {sample_grid_cell}:\")\n",
    "print(footprint)\n",
    "\n",
    "# ## Generate Footprints for Multiple Grid Cells\n",
    "# Add a `utm_footprint` column to a subset of the grid points.\n",
    "subset_gdf = grid.points.sample(10)  # Take a random sample of grid points\n",
    "subset_with_footprints = generate_product_outlines(\n",
    "    subset_gdf, get_footprints=True\n",
    ")\n",
    "\n",
    "print(\"Subset of grid points with footprints:\")\n",
    "print(subset_with_footprints[[\"grid_cell\", \"utm_footprint\"]])"
   ]
  },
  {
   "cell_type": "code",
   "execution_count": 7,
   "metadata": {},
   "outputs": [],
   "source": [
    "# For each UTM Zone, we can run the product outline creation and footprint generation process."
   ]
  },
  {
   "cell_type": "code",
   "execution_count": 8,
   "metadata": {},
   "outputs": [
    {
     "name": "stdout",
     "output_type": "stream",
     "text": [
      "['EPSG:32701' 'EPSG:32702' 'EPSG:32703' 'EPSG:32704' 'EPSG:32705'\n",
      " 'EPSG:32706' 'EPSG:32707' 'EPSG:32708' 'EPSG:32709' 'EPSG:32710'\n",
      " 'EPSG:32711' 'EPSG:32712' 'EPSG:32713' 'EPSG:32714' 'EPSG:32715'\n",
      " 'EPSG:32716' 'EPSG:32717' 'EPSG:32718' 'EPSG:32719' 'EPSG:32720'\n",
      " 'EPSG:32721' 'EPSG:32722' 'EPSG:32723' 'EPSG:32724' 'EPSG:32725'\n",
      " 'EPSG:32726' 'EPSG:32727' 'EPSG:32728' 'EPSG:32729' 'EPSG:32730'\n",
      " 'EPSG:32731' 'EPSG:32732' 'EPSG:32733' 'EPSG:32734' 'EPSG:32735'\n",
      " 'EPSG:32736' 'EPSG:32737' 'EPSG:32738' 'EPSG:32739' 'EPSG:32740'\n",
      " 'EPSG:32741' 'EPSG:32742' 'EPSG:32743' 'EPSG:32744' 'EPSG:32745'\n",
      " 'EPSG:32746' 'EPSG:32747' 'EPSG:32748' 'EPSG:32749' 'EPSG:32750'\n",
      " 'EPSG:32751' 'EPSG:32752' 'EPSG:32753' 'EPSG:32754' 'EPSG:32755'\n",
      " 'EPSG:32756' 'EPSG:32757' 'EPSG:32758' 'EPSG:32759' 'EPSG:32760'\n",
      " 'EPSG:32601' 'EPSG:32602' 'EPSG:32603' 'EPSG:32604' 'EPSG:32605'\n",
      " 'EPSG:32606' 'EPSG:32607' 'EPSG:32608' 'EPSG:32609' 'EPSG:32610'\n",
      " 'EPSG:32611' 'EPSG:32612' 'EPSG:32613' 'EPSG:32614' 'EPSG:32615'\n",
      " 'EPSG:32616' 'EPSG:32617' 'EPSG:32618' 'EPSG:32619' 'EPSG:32620'\n",
      " 'EPSG:32621' 'EPSG:32622' 'EPSG:32623' 'EPSG:32624' 'EPSG:32625'\n",
      " 'EPSG:32626' 'EPSG:32627' 'EPSG:32628' 'EPSG:32629' 'EPSG:32630'\n",
      " 'EPSG:32631' 'EPSG:32632' 'EPSG:32633' 'EPSG:32634' 'EPSG:32635'\n",
      " 'EPSG:32636' 'EPSG:32637' 'EPSG:32638' 'EPSG:32639' 'EPSG:32640'\n",
      " 'EPSG:32641' 'EPSG:32642' 'EPSG:32643' 'EPSG:32644' 'EPSG:32645'\n",
      " 'EPSG:32646' 'EPSG:32647' 'EPSG:32648' 'EPSG:32649' 'EPSG:32650'\n",
      " 'EPSG:32651' 'EPSG:32652' 'EPSG:32653' 'EPSG:32654' 'EPSG:32655'\n",
      " 'EPSG:32656' 'EPSG:32657' 'EPSG:32658' 'EPSG:32659' 'EPSG:32660']\n"
     ]
    }
   ],
   "source": [
    "print(grid.points['utm_crs'].unique())"
   ]
  },
  {
   "cell_type": "code",
   "execution_count": 9,
   "metadata": {},
   "outputs": [
    {
     "name": "stdout",
     "output_type": "stream",
     "text": [
      "Using UTM Zone: EPSG:32633\n"
     ]
    }
   ],
   "source": [
    "utm_zone = grid.points['utm_crs'].unique()[92]  # Use any available UTM zone\n",
    "print(\"Using UTM Zone:\", utm_zone)"
   ]
  },
  {
   "cell_type": "code",
   "execution_count": 10,
   "metadata": {},
   "outputs": [],
   "source": [
    "shift=340 # Sentinel-2 grid extended on each side to create 1068*1068 raster\n",
    "pixel_size=10 # Sentinel-2 pixel size in meters\n",
    "raster_width=1068 # Sentinel-2 tile size in Major TOM\n",
    "raster_height=1068 # Sentinel-2 tile size in Major TOM\n",
    "driver=\"ESRI Shapefile\" # Use \"GeoJSON\" or \"GPKG\"\n",
    "get_footprints=False # Set to True to get utm_footprints in UTM coordinates"
   ]
  },
  {
   "cell_type": "code",
   "execution_count": 11,
   "metadata": {},
   "outputs": [
    {
     "name": "stdout",
     "output_type": "stream",
     "text": [
      "Using UTM Zone: EPSG:32633\n",
      "Product outlines generated for EPSG:32633 and saved to test_output\\product_outlines_sample_utmzone.shp\n"
     ]
    }
   ],
   "source": [
    "# ## Generate Product Outlines for a UTM Zone\n",
    "# Choose a UTM zone and generate product outlines. Default values for Sentinel-2 L2A products are used.\n",
    "# The product outlines are saved to a shapefile.\n",
    "utm_zone = grid.points['utm_crs'].unique()[92]  # Use the first available UTM zone\n",
    "print(\"Using UTM Zone:\", utm_zone)\n",
    "\n",
    "product_outlines_file = os.path.join(output_folder, \"product_outlines_sample_utmzone.shp\")\n",
    "\n",
    "# generate_product_outlines_for_utm_zone(self, utm_zone, shift=340, pixel_size=10, raster_width=1068, raster_height=1068, output_file=None, driver=\"ESRI Shapefile\", get_footprints=False)\n",
    "\n",
    "\n",
    "product_outlines = grid.generate_product_outlines_for_utm_zone(\n",
    "    utm_zone=utm_zone,\n",
    "    output_file=product_outlines_file,\n",
    "    driver=\"ESRI Shapefile\",\n",
    "    get_footprints=False\n",
    ")\n",
    "print(f\"Product outlines generated for {utm_zone} and saved to {product_outlines_file}\")"
   ]
  },
  {
   "cell_type": "code",
   "execution_count": 12,
   "metadata": {},
   "outputs": [
    {
     "data": {
      "image/png": "[encoded data removed]",
      "text/plain": [
       "<Figure size 400x1000 with 1 Axes>"
      ]
     },
     "metadata": {},
     "output_type": "display_data"
    }
   ],
   "source": [
    "# ## Visualize Product Outlines\n",
    "# Plot the generated product outlines to visualize.\n",
    "product_outlines_gdf = gpd.read_file(product_outlines_file)\n",
    "fig, ax = plt.subplots(figsize=(4, 10))\n",
    "product_outlines_gdf.plot(ax=ax, edgecolor=\"blue\", facecolor=\"none\")\n",
    "plt.title(f\"Product Outlines for {utm_zone}\")\n",
    "plt.show()"
   ]
  },
  {
   "cell_type": "code",
   "execution_count": 13,
   "metadata": {},
   "outputs": [
    {
     "name": "stdout",
     "output_type": "stream",
     "text": [
      "Global product outlines saved to test_output\\global_product_outlines_utm_zones\n"
     ]
    }
   ],
   "source": [
    "# ## Generate Global Product Outlines Grouped by UTM Zones\n",
    "# Create global product outlines split by UTM zones.\n",
    "global_output_folder = os.path.join(output_folder, \"global_product_outlines_utm_zones\")\n",
    "grid.generate_global_product_outlines_by_utm(\n",
    "    output_folder=global_output_folder,\n",
    "    driver=\"ESRI Shapefile\",\n",
    "    get_footprints=False,\n",
    "    naming_convention=\"zone\"\n",
    ")\n",
    "\n",
    "print(f\"Global product outlines saved to {global_output_folder}\")\n",
    "\n",
    "\n",
    "\n"
   ]
  },
  {
   "cell_type": "code",
   "execution_count": 14,
   "metadata": {},
   "outputs": [
    {
     "name": "stdout",
     "output_type": "stream",
     "text": [
      "processing file:  raster_outlines_UTM_zone_10N.shp\n",
      "processing file:  raster_outlines_UTM_zone_10S.shp\n",
      "processing file:  raster_outlines_UTM_zone_11N.shp\n",
      "processing file:  raster_outlines_UTM_zone_11S.shp\n",
      "processing file:  raster_outlines_UTM_zone_12N.shp\n",
      "processing file:  raster_outlines_UTM_zone_12S.shp\n",
      "processing file:  raster_outlines_UTM_zone_13N.shp\n",
      "processing file:  raster_outlines_UTM_zone_13S.shp\n",
      "processing file:  raster_outlines_UTM_zone_14N.shp\n",
      "processing file:  raster_outlines_UTM_zone_14S.shp\n",
      "processing file:  raster_outlines_UTM_zone_15N.shp\n",
      "processing file:  raster_outlines_UTM_zone_15S.shp\n",
      "processing file:  raster_outlines_UTM_zone_16N.shp\n",
      "processing file:  raster_outlines_UTM_zone_16S.shp\n",
      "processing file:  raster_outlines_UTM_zone_17N.shp\n",
      "processing file:  raster_outlines_UTM_zone_17S.shp\n",
      "processing file:  raster_outlines_UTM_zone_18N.shp\n",
      "processing file:  raster_outlines_UTM_zone_18S.shp\n",
      "processing file:  raster_outlines_UTM_zone_19N.shp\n",
      "processing file:  raster_outlines_UTM_zone_19S.shp\n",
      "processing file:  raster_outlines_UTM_zone_1N.shp\n",
      "processing file:  raster_outlines_UTM_zone_1S.shp\n",
      "processing file:  raster_outlines_UTM_zone_20N.shp\n",
      "processing file:  raster_outlines_UTM_zone_20S.shp\n",
      "processing file:  raster_outlines_UTM_zone_21N.shp\n",
      "processing file:  raster_outlines_UTM_zone_21S.shp\n",
      "processing file:  raster_outlines_UTM_zone_22N.shp\n",
      "processing file:  raster_outlines_UTM_zone_22S.shp\n",
      "processing file:  raster_outlines_UTM_zone_23N.shp\n",
      "processing file:  raster_outlines_UTM_zone_23S.shp\n",
      "processing file:  raster_outlines_UTM_zone_24N.shp\n",
      "processing file:  raster_outlines_UTM_zone_24S.shp\n",
      "processing file:  raster_outlines_UTM_zone_25N.shp\n",
      "processing file:  raster_outlines_UTM_zone_25S.shp\n",
      "processing file:  raster_outlines_UTM_zone_26N.shp\n",
      "processing file:  raster_outlines_UTM_zone_26S.shp\n",
      "processing file:  raster_outlines_UTM_zone_27N.shp\n",
      "processing file:  raster_outlines_UTM_zone_27S.shp\n",
      "processing file:  raster_outlines_UTM_zone_28N.shp\n",
      "processing file:  raster_outlines_UTM_zone_28S.shp\n",
      "processing file:  raster_outlines_UTM_zone_29N.shp\n",
      "processing file:  raster_outlines_UTM_zone_29S.shp\n",
      "processing file:  raster_outlines_UTM_zone_2N.shp\n",
      "processing file:  raster_outlines_UTM_zone_2S.shp\n",
      "processing file:  raster_outlines_UTM_zone_30N.shp\n",
      "processing file:  raster_outlines_UTM_zone_30S.shp\n",
      "processing file:  raster_outlines_UTM_zone_31N.shp\n",
      "processing file:  raster_outlines_UTM_zone_31S.shp\n",
      "processing file:  raster_outlines_UTM_zone_32N.shp\n",
      "processing file:  raster_outlines_UTM_zone_32S.shp\n",
      "processing file:  raster_outlines_UTM_zone_33N.shp\n",
      "processing file:  raster_outlines_UTM_zone_33S.shp\n",
      "processing file:  raster_outlines_UTM_zone_34N.shp\n",
      "processing file:  raster_outlines_UTM_zone_34S.shp\n",
      "processing file:  raster_outlines_UTM_zone_35N.shp\n",
      "processing file:  raster_outlines_UTM_zone_35S.shp\n",
      "processing file:  raster_outlines_UTM_zone_36N.shp\n",
      "processing file:  raster_outlines_UTM_zone_36S.shp\n",
      "processing file:  raster_outlines_UTM_zone_37N.shp\n",
      "processing file:  raster_outlines_UTM_zone_37S.shp\n",
      "processing file:  raster_outlines_UTM_zone_38N.shp\n",
      "processing file:  raster_outlines_UTM_zone_38S.shp\n",
      "processing file:  raster_outlines_UTM_zone_39N.shp\n",
      "processing file:  raster_outlines_UTM_zone_39S.shp\n",
      "processing file:  raster_outlines_UTM_zone_3N.shp\n",
      "processing file:  raster_outlines_UTM_zone_3S.shp\n",
      "processing file:  raster_outlines_UTM_zone_40N.shp\n",
      "processing file:  raster_outlines_UTM_zone_40S.shp\n",
      "processing file:  raster_outlines_UTM_zone_41N.shp\n",
      "processing file:  raster_outlines_UTM_zone_41S.shp\n",
      "processing file:  raster_outlines_UTM_zone_42N.shp\n",
      "processing file:  raster_outlines_UTM_zone_42S.shp\n",
      "processing file:  raster_outlines_UTM_zone_43N.shp\n",
      "processing file:  raster_outlines_UTM_zone_43S.shp\n",
      "processing file:  raster_outlines_UTM_zone_44N.shp\n",
      "processing file:  raster_outlines_UTM_zone_44S.shp\n",
      "processing file:  raster_outlines_UTM_zone_45N.shp\n",
      "processing file:  raster_outlines_UTM_zone_45S.shp\n",
      "processing file:  raster_outlines_UTM_zone_46N.shp\n",
      "processing file:  raster_outlines_UTM_zone_46S.shp\n",
      "processing file:  raster_outlines_UTM_zone_47N.shp\n",
      "processing file:  raster_outlines_UTM_zone_47S.shp\n",
      "processing file:  raster_outlines_UTM_zone_48N.shp\n",
      "processing file:  raster_outlines_UTM_zone_48S.shp\n",
      "processing file:  raster_outlines_UTM_zone_49N.shp\n",
      "processing file:  raster_outlines_UTM_zone_49S.shp\n",
      "processing file:  raster_outlines_UTM_zone_4N.shp\n",
      "processing file:  raster_outlines_UTM_zone_4S.shp\n",
      "processing file:  raster_outlines_UTM_zone_50N.shp\n",
      "processing file:  raster_outlines_UTM_zone_50S.shp\n",
      "processing file:  raster_outlines_UTM_zone_51N.shp\n",
      "processing file:  raster_outlines_UTM_zone_51S.shp\n",
      "processing file:  raster_outlines_UTM_zone_52N.shp\n",
      "processing file:  raster_outlines_UTM_zone_52S.shp\n",
      "processing file:  raster_outlines_UTM_zone_53N.shp\n",
      "processing file:  raster_outlines_UTM_zone_53S.shp\n",
      "processing file:  raster_outlines_UTM_zone_54N.shp\n",
      "processing file:  raster_outlines_UTM_zone_54S.shp\n",
      "processing file:  raster_outlines_UTM_zone_55N.shp\n",
      "processing file:  raster_outlines_UTM_zone_55S.shp\n",
      "processing file:  raster_outlines_UTM_zone_56N.shp\n",
      "processing file:  raster_outlines_UTM_zone_56S.shp\n",
      "processing file:  raster_outlines_UTM_zone_57N.shp\n",
      "processing file:  raster_outlines_UTM_zone_57S.shp\n",
      "processing file:  raster_outlines_UTM_zone_58N.shp\n",
      "processing file:  raster_outlines_UTM_zone_58S.shp\n",
      "processing file:  raster_outlines_UTM_zone_59N.shp\n",
      "processing file:  raster_outlines_UTM_zone_59S.shp\n",
      "processing file:  raster_outlines_UTM_zone_5N.shp\n",
      "processing file:  raster_outlines_UTM_zone_5S.shp\n",
      "processing file:  raster_outlines_UTM_zone_60N.shp\n",
      "processing file:  raster_outlines_UTM_zone_60S.shp\n",
      "processing file:  raster_outlines_UTM_zone_6N.shp\n",
      "processing file:  raster_outlines_UTM_zone_6S.shp\n",
      "processing file:  raster_outlines_UTM_zone_7N.shp\n",
      "processing file:  raster_outlines_UTM_zone_7S.shp\n",
      "processing file:  raster_outlines_UTM_zone_8N.shp\n",
      "processing file:  raster_outlines_UTM_zone_8S.shp\n",
      "processing file:  raster_outlines_UTM_zone_9N.shp\n",
      "processing file:  raster_outlines_UTM_zone_9S.shp\n",
      "test_output\\merged_global_outlines.shp\n",
      "test_output\\merged_global_outlines.shp\n"
     ]
    },
    {
     "ename": "KeyboardInterrupt",
     "evalue": "",
     "output_type": "error",
     "traceback": [
      "\u001b[1;31m---------------------------------------------------------------------------\u001b[0m",
      "\u001b[1;31mKeyboardInterrupt\u001b[0m                         Traceback (most recent call last)",
      "Cell \u001b[1;32mIn[14], line 4\u001b[0m\n\u001b[0;32m      1\u001b[0m \u001b[38;5;66;03m# ## Merge UTM Zone Files into WGS84\u001b[39;00m\n\u001b[0;32m      2\u001b[0m \u001b[38;5;66;03m# Merge all the generated UTM zone files into a single WGS84 file.\u001b[39;00m\n\u001b[0;32m      3\u001b[0m merged_file \u001b[38;5;241m=\u001b[39m os\u001b[38;5;241m.\u001b[39mpath\u001b[38;5;241m.\u001b[39mjoin(output_folder, \u001b[38;5;124m\"\u001b[39m\u001b[38;5;124mmerged_global_outlines.shp\u001b[39m\u001b[38;5;124m\"\u001b[39m)\n\u001b[1;32m----> 4\u001b[0m \u001b[43mmerge_utm_files_to_wgs84\u001b[49m\u001b[43m(\u001b[49m\n\u001b[0;32m      5\u001b[0m \u001b[43m    \u001b[49m\u001b[43mutm_folder\u001b[49m\u001b[38;5;241;43m=\u001b[39;49m\u001b[43mglobal_output_folder\u001b[49m\u001b[43m,\u001b[49m\n\u001b[0;32m      6\u001b[0m \u001b[43m    \u001b[49m\u001b[43moutput_file\u001b[49m\u001b[38;5;241;43m=\u001b[39;49m\u001b[43mmerged_file\u001b[49m\u001b[43m,\u001b[49m\n\u001b[0;32m      7\u001b[0m \u001b[43m    \u001b[49m\u001b[43mdriver\u001b[49m\u001b[38;5;241;43m=\u001b[39;49m\u001b[38;5;124;43m\"\u001b[39;49m\u001b[38;5;124;43mESRI Shapefile\u001b[39;49m\u001b[38;5;124;43m\"\u001b[39;49m\n\u001b[0;32m      8\u001b[0m \u001b[43m)\u001b[49m\n\u001b[0;32m     10\u001b[0m \u001b[38;5;28mprint\u001b[39m(\u001b[38;5;124mf\u001b[39m\u001b[38;5;124m\"\u001b[39m\u001b[38;5;124mMerged global outlines saved to \u001b[39m\u001b[38;5;132;01m{\u001b[39;00mmerged_file\u001b[38;5;132;01m}\u001b[39;00m\u001b[38;5;124m\"\u001b[39m)\n",
      "File \u001b[1;32md:\\Major-TOM-main\\MajorTOM\\grid.py:385\u001b[0m, in \u001b[0;36mmerge_utm_files_to_wgs84\u001b[1;34m(utm_folder, output_file, ext, driver)\u001b[0m\n\u001b[0;32m    383\u001b[0m     export_columns \u001b[38;5;241m=\u001b[39m [\u001b[38;5;124m\"\u001b[39m\u001b[38;5;124mgrid_cell\u001b[39m\u001b[38;5;124m\"\u001b[39m, \u001b[38;5;124m\"\u001b[39m\u001b[38;5;124mutm_crs\u001b[39m\u001b[38;5;124m\"\u001b[39m, \u001b[38;5;124m\"\u001b[39m\u001b[38;5;124mgeometry\u001b[39m\u001b[38;5;124m\"\u001b[39m]\n\u001b[0;32m    384\u001b[0m \u001b[38;5;66;03m# Drop temporary columns and return the GeoDataFrame\u001b[39;00m\n\u001b[1;32m--> 385\u001b[0m \u001b[38;5;28;01mreturn\u001b[39;00m reprojected_gdf[export_columns]\n",
      "File \u001b[1;32mc:\\Users\\stays\\anaconda3\\envs\\PytKerasNewHQ\\Lib\\site-packages\\geopandas\\geodataframe.py:1264\u001b[0m, in \u001b[0;36mGeoDataFrame.to_file\u001b[1;34m(self, filename, driver, schema, index, **kwargs)\u001b[0m\n\u001b[0;32m   1173\u001b[0m \u001b[38;5;250m\u001b[39m\u001b[38;5;124;03m\"\"\"Write the ``GeoDataFrame`` to a file.\u001b[39;00m\n\u001b[0;32m   1174\u001b[0m \n\u001b[0;32m   1175\u001b[0m \u001b[38;5;124;03mBy default, an ESRI shapefile is written, but any OGR data source\u001b[39;00m\n\u001b[1;32m   (...)\u001b[0m\n\u001b[0;32m   1260\u001b[0m \n\u001b[0;32m   1261\u001b[0m \u001b[38;5;124;03m\"\"\"\u001b[39;00m\n\u001b[0;32m   1262\u001b[0m \u001b[38;5;28;01mfrom\u001b[39;00m \u001b[38;5;21;01mgeopandas\u001b[39;00m\u001b[38;5;21;01m.\u001b[39;00m\u001b[38;5;21;01mio\u001b[39;00m\u001b[38;5;21;01m.\u001b[39;00m\u001b[38;5;21;01mfile\u001b[39;00m \u001b[38;5;28;01mimport\u001b[39;00m _to_file\n\u001b[1;32m-> 1264\u001b[0m \u001b[43m_to_file\u001b[49m\u001b[43m(\u001b[49m\u001b[38;5;28;43mself\u001b[39;49m\u001b[43m,\u001b[49m\u001b[43m \u001b[49m\u001b[43mfilename\u001b[49m\u001b[43m,\u001b[49m\u001b[43m \u001b[49m\u001b[43mdriver\u001b[49m\u001b[43m,\u001b[49m\u001b[43m \u001b[49m\u001b[43mschema\u001b[49m\u001b[43m,\u001b[49m\u001b[43m \u001b[49m\u001b[43mindex\u001b[49m\u001b[43m,\u001b[49m\u001b[43m \u001b[49m\u001b[38;5;241;43m*\u001b[39;49m\u001b[38;5;241;43m*\u001b[39;49m\u001b[43mkwargs\u001b[49m\u001b[43m)\u001b[49m\n",
      "File \u001b[1;32mc:\\Users\\stays\\anaconda3\\envs\\PytKerasNewHQ\\Lib\\site-packages\\geopandas\\io\\file.py:612\u001b[0m, in \u001b[0;36m_to_file\u001b[1;34m(df, filename, driver, schema, index, mode, crs, engine, **kwargs)\u001b[0m\n\u001b[0;32m    609\u001b[0m     \u001b[38;5;28;01mraise\u001b[39;00m \u001b[38;5;167;01mValueError\u001b[39;00m(\u001b[38;5;124mf\u001b[39m\u001b[38;5;124m\"\u001b[39m\u001b[38;5;124m'\u001b[39m\u001b[38;5;124mmode\u001b[39m\u001b[38;5;124m'\u001b[39m\u001b[38;5;124m should be one of \u001b[39m\u001b[38;5;124m'\u001b[39m\u001b[38;5;124mw\u001b[39m\u001b[38;5;124m'\u001b[39m\u001b[38;5;124m or \u001b[39m\u001b[38;5;124m'\u001b[39m\u001b[38;5;124ma\u001b[39m\u001b[38;5;124m'\u001b[39m\u001b[38;5;124m, got \u001b[39m\u001b[38;5;124m'\u001b[39m\u001b[38;5;132;01m{\u001b[39;00mmode\u001b[38;5;132;01m}\u001b[39;00m\u001b[38;5;124m'\u001b[39m\u001b[38;5;124m instead\u001b[39m\u001b[38;5;124m\"\u001b[39m)\n\u001b[0;32m    611\u001b[0m \u001b[38;5;28;01mif\u001b[39;00m engine \u001b[38;5;241m==\u001b[39m \u001b[38;5;124m\"\u001b[39m\u001b[38;5;124mfiona\u001b[39m\u001b[38;5;124m\"\u001b[39m:\n\u001b[1;32m--> 612\u001b[0m     \u001b[43m_to_file_fiona\u001b[49m\u001b[43m(\u001b[49m\u001b[43mdf\u001b[49m\u001b[43m,\u001b[49m\u001b[43m \u001b[49m\u001b[43mfilename\u001b[49m\u001b[43m,\u001b[49m\u001b[43m \u001b[49m\u001b[43mdriver\u001b[49m\u001b[43m,\u001b[49m\u001b[43m \u001b[49m\u001b[43mschema\u001b[49m\u001b[43m,\u001b[49m\u001b[43m \u001b[49m\u001b[43mcrs\u001b[49m\u001b[43m,\u001b[49m\u001b[43m \u001b[49m\u001b[43mmode\u001b[49m\u001b[43m,\u001b[49m\u001b[43m \u001b[49m\u001b[38;5;241;43m*\u001b[39;49m\u001b[38;5;241;43m*\u001b[39;49m\u001b[43mkwargs\u001b[49m\u001b[43m)\u001b[49m\n\u001b[0;32m    613\u001b[0m \u001b[38;5;28;01melif\u001b[39;00m engine \u001b[38;5;241m==\u001b[39m \u001b[38;5;124m\"\u001b[39m\u001b[38;5;124mpyogrio\u001b[39m\u001b[38;5;124m\"\u001b[39m:\n\u001b[0;32m    614\u001b[0m     _to_file_pyogrio(df, filename, driver, schema, crs, mode, \u001b[38;5;241m*\u001b[39m\u001b[38;5;241m*\u001b[39mkwargs)\n",
      "File \u001b[1;32mc:\\Users\\stays\\anaconda3\\envs\\PytKerasNewHQ\\Lib\\site-packages\\geopandas\\io\\file.py:641\u001b[0m, in \u001b[0;36m_to_file_fiona\u001b[1;34m(df, filename, driver, schema, crs, mode, **kwargs)\u001b[0m\n\u001b[0;32m    637\u001b[0m     crs_wkt \u001b[38;5;241m=\u001b[39m crs\u001b[38;5;241m.\u001b[39mto_wkt(\u001b[38;5;124m\"\u001b[39m\u001b[38;5;124mWKT1_GDAL\u001b[39m\u001b[38;5;124m\"\u001b[39m)\n\u001b[0;32m    638\u001b[0m \u001b[38;5;28;01mwith\u001b[39;00m fiona\u001b[38;5;241m.\u001b[39mopen(\n\u001b[0;32m    639\u001b[0m     filename, mode\u001b[38;5;241m=\u001b[39mmode, driver\u001b[38;5;241m=\u001b[39mdriver, crs_wkt\u001b[38;5;241m=\u001b[39mcrs_wkt, schema\u001b[38;5;241m=\u001b[39mschema, \u001b[38;5;241m*\u001b[39m\u001b[38;5;241m*\u001b[39mkwargs\n\u001b[0;32m    640\u001b[0m ) \u001b[38;5;28;01mas\u001b[39;00m colxn:\n\u001b[1;32m--> 641\u001b[0m     \u001b[43mcolxn\u001b[49m\u001b[38;5;241;43m.\u001b[39;49m\u001b[43mwriterecords\u001b[49m\u001b[43m(\u001b[49m\u001b[43mdf\u001b[49m\u001b[38;5;241;43m.\u001b[39;49m\u001b[43miterfeatures\u001b[49m\u001b[43m(\u001b[49m\u001b[43m)\u001b[49m\u001b[43m)\u001b[49m\n",
      "File \u001b[1;32mc:\\Users\\stays\\anaconda3\\envs\\PytKerasNewHQ\\Lib\\site-packages\\fiona\\collection.py:558\u001b[0m, in \u001b[0;36mCollection.writerecords\u001b[1;34m(self, records)\u001b[0m\n\u001b[0;32m    556\u001b[0m \u001b[38;5;28;01mif\u001b[39;00m \u001b[38;5;28mself\u001b[39m\u001b[38;5;241m.\u001b[39mmode \u001b[38;5;129;01mnot\u001b[39;00m \u001b[38;5;129;01min\u001b[39;00m (\u001b[38;5;124m\"\u001b[39m\u001b[38;5;124ma\u001b[39m\u001b[38;5;124m\"\u001b[39m, \u001b[38;5;124m\"\u001b[39m\u001b[38;5;124mw\u001b[39m\u001b[38;5;124m\"\u001b[39m):\n\u001b[0;32m    557\u001b[0m     \u001b[38;5;28;01mraise\u001b[39;00m \u001b[38;5;167;01mOSError\u001b[39;00m(\u001b[38;5;124m\"\u001b[39m\u001b[38;5;124mcollection not open for writing\u001b[39m\u001b[38;5;124m\"\u001b[39m)\n\u001b[1;32m--> 558\u001b[0m \u001b[38;5;28;43mself\u001b[39;49m\u001b[38;5;241;43m.\u001b[39;49m\u001b[43msession\u001b[49m\u001b[38;5;241;43m.\u001b[39;49m\u001b[43mwriterecs\u001b[49m\u001b[43m(\u001b[49m\u001b[43mrecords\u001b[49m\u001b[43m,\u001b[49m\u001b[43m \u001b[49m\u001b[38;5;28;43mself\u001b[39;49m\u001b[43m)\u001b[49m\n\u001b[0;32m    559\u001b[0m \u001b[38;5;28mself\u001b[39m\u001b[38;5;241m.\u001b[39m_len \u001b[38;5;241m=\u001b[39m \u001b[38;5;28mself\u001b[39m\u001b[38;5;241m.\u001b[39msession\u001b[38;5;241m.\u001b[39mget_length()\n\u001b[0;32m    560\u001b[0m \u001b[38;5;28mself\u001b[39m\u001b[38;5;241m.\u001b[39m_bounds \u001b[38;5;241m=\u001b[39m \u001b[38;5;28;01mNone\u001b[39;00m\n",
      "File \u001b[1;32mfiona\\\\ogrext.pyx:1392\u001b[0m, in \u001b[0;36mfiona.ogrext.WritingSession.writerecs\u001b[1;34m()\u001b[0m\n",
      "File \u001b[1;32mc:\\Users\\stays\\anaconda3\\envs\\PytKerasNewHQ\\Lib\\site-packages\\geopandas\\geodataframe.py:951\u001b[0m, in \u001b[0;36mGeoDataFrame.iterfeatures\u001b[1;34m(self, na, show_bbox, drop_id)\u001b[0m\n\u001b[0;32m    949\u001b[0m feature[\u001b[38;5;124m\"\u001b[39m\u001b[38;5;124mtype\u001b[39m\u001b[38;5;124m\"\u001b[39m] \u001b[38;5;241m=\u001b[39m \u001b[38;5;124m\"\u001b[39m\u001b[38;5;124mFeature\u001b[39m\u001b[38;5;124m\"\u001b[39m\n\u001b[0;32m    950\u001b[0m feature[\u001b[38;5;124m\"\u001b[39m\u001b[38;5;124mproperties\u001b[39m\u001b[38;5;124m\"\u001b[39m] \u001b[38;5;241m=\u001b[39m properties_items\n\u001b[1;32m--> 951\u001b[0m feature[\u001b[38;5;124m\"\u001b[39m\u001b[38;5;124mgeometry\u001b[39m\u001b[38;5;124m\"\u001b[39m] \u001b[38;5;241m=\u001b[39m mapping(geom) \u001b[38;5;28;01mif\u001b[39;00m geom \u001b[38;5;28;01melse\u001b[39;00m \u001b[38;5;28;01mNone\u001b[39;00m\n\u001b[0;32m    953\u001b[0m \u001b[38;5;28;01mif\u001b[39;00m show_bbox:\n\u001b[0;32m    954\u001b[0m     feature[\u001b[38;5;124m\"\u001b[39m\u001b[38;5;124mbbox\u001b[39m\u001b[38;5;124m\"\u001b[39m] \u001b[38;5;241m=\u001b[39m geom\u001b[38;5;241m.\u001b[39mbounds \u001b[38;5;28;01mif\u001b[39;00m geom \u001b[38;5;28;01melse\u001b[39;00m \u001b[38;5;28;01mNone\u001b[39;00m\n",
      "File \u001b[1;32mc:\\Users\\stays\\anaconda3\\envs\\PytKerasNewHQ\\Lib\\site-packages\\shapely\\geometry\\base.py:113\u001b[0m, in \u001b[0;36mBaseGeometry.__bool__\u001b[1;34m(self)\u001b[0m\n\u001b[0;32m    112\u001b[0m \u001b[38;5;28;01mdef\u001b[39;00m \u001b[38;5;21m__bool__\u001b[39m(\u001b[38;5;28mself\u001b[39m):\n\u001b[1;32m--> 113\u001b[0m     \u001b[38;5;28;01mreturn\u001b[39;00m \u001b[38;5;28;43mself\u001b[39;49m\u001b[38;5;241;43m.\u001b[39;49m\u001b[43mis_empty\u001b[49m \u001b[38;5;129;01mis\u001b[39;00m \u001b[38;5;28;01mFalse\u001b[39;00m\n",
      "File \u001b[1;32mc:\\Users\\stays\\anaconda3\\envs\\PytKerasNewHQ\\Lib\\site-packages\\shapely\\geometry\\base.py:629\u001b[0m, in \u001b[0;36mBaseGeometry.is_empty\u001b[1;34m(self)\u001b[0m\n\u001b[0;32m    626\u001b[0m \u001b[38;5;129m@property\u001b[39m\n\u001b[0;32m    627\u001b[0m \u001b[38;5;28;01mdef\u001b[39;00m \u001b[38;5;21mis_empty\u001b[39m(\u001b[38;5;28mself\u001b[39m):\n\u001b[0;32m    628\u001b[0m \u001b[38;5;250m    \u001b[39m\u001b[38;5;124;03m\"\"\"True if the set of points in this geometry is empty, else False\"\"\"\u001b[39;00m\n\u001b[1;32m--> 629\u001b[0m     \u001b[38;5;28;01mreturn\u001b[39;00m \u001b[38;5;28mbool\u001b[39m(\u001b[43mshapely\u001b[49m\u001b[38;5;241;43m.\u001b[39;49m\u001b[43mis_empty\u001b[49m\u001b[43m(\u001b[49m\u001b[38;5;28;43mself\u001b[39;49m\u001b[43m)\u001b[49m)\n",
      "File \u001b[1;32mc:\\Users\\stays\\anaconda3\\envs\\PytKerasNewHQ\\Lib\\site-packages\\shapely\\decorators.py:77\u001b[0m, in \u001b[0;36mmultithreading_enabled.<locals>.wrapped\u001b[1;34m(*args, **kwargs)\u001b[0m\n\u001b[0;32m     75\u001b[0m     \u001b[38;5;28;01mfor\u001b[39;00m arr \u001b[38;5;129;01min\u001b[39;00m array_args:\n\u001b[0;32m     76\u001b[0m         arr\u001b[38;5;241m.\u001b[39mflags\u001b[38;5;241m.\u001b[39mwriteable \u001b[38;5;241m=\u001b[39m \u001b[38;5;28;01mFalse\u001b[39;00m\n\u001b[1;32m---> 77\u001b[0m     \u001b[38;5;28;01mreturn\u001b[39;00m \u001b[43mfunc\u001b[49m\u001b[43m(\u001b[49m\u001b[38;5;241;43m*\u001b[39;49m\u001b[43margs\u001b[49m\u001b[43m,\u001b[49m\u001b[43m \u001b[49m\u001b[38;5;241;43m*\u001b[39;49m\u001b[38;5;241;43m*\u001b[39;49m\u001b[43mkwargs\u001b[49m\u001b[43m)\u001b[49m\n\u001b[0;32m     78\u001b[0m \u001b[38;5;28;01mfinally\u001b[39;00m:\n\u001b[0;32m     79\u001b[0m     \u001b[38;5;28;01mfor\u001b[39;00m arr, old_flag \u001b[38;5;129;01min\u001b[39;00m \u001b[38;5;28mzip\u001b[39m(array_args, old_flags):\n",
      "File \u001b[1;32mc:\\Users\\stays\\anaconda3\\envs\\PytKerasNewHQ\\Lib\\site-packages\\shapely\\predicates.py:162\u001b[0m, in \u001b[0;36mis_empty\u001b[1;34m(geometry, **kwargs)\u001b[0m\n\u001b[0;32m    137\u001b[0m \u001b[38;5;129m@multithreading_enabled\u001b[39m\n\u001b[0;32m    138\u001b[0m \u001b[38;5;28;01mdef\u001b[39;00m \u001b[38;5;21mis_empty\u001b[39m(geometry, \u001b[38;5;241m*\u001b[39m\u001b[38;5;241m*\u001b[39mkwargs):\n\u001b[0;32m    139\u001b[0m \u001b[38;5;250m    \u001b[39m\u001b[38;5;124;03m\"\"\"Returns True if a geometry is an empty point, polygon, etc.\u001b[39;00m\n\u001b[0;32m    140\u001b[0m \n\u001b[0;32m    141\u001b[0m \u001b[38;5;124;03m    Parameters\u001b[39;00m\n\u001b[1;32m   (...)\u001b[0m\n\u001b[0;32m    160\u001b[0m \u001b[38;5;124;03m    False\u001b[39;00m\n\u001b[0;32m    161\u001b[0m \u001b[38;5;124;03m    \"\"\"\u001b[39;00m\n\u001b[1;32m--> 162\u001b[0m     \u001b[38;5;28;01mreturn\u001b[39;00m \u001b[43mlib\u001b[49m\u001b[38;5;241;43m.\u001b[39;49m\u001b[43mis_empty\u001b[49m\u001b[43m(\u001b[49m\u001b[43mgeometry\u001b[49m\u001b[43m,\u001b[49m\u001b[43m \u001b[49m\u001b[38;5;241;43m*\u001b[39;49m\u001b[38;5;241;43m*\u001b[39;49m\u001b[43mkwargs\u001b[49m\u001b[43m)\u001b[49m\n",
      "\u001b[1;31mKeyboardInterrupt\u001b[0m: "
     ]
    }
   ],
   "source": [
    "\n",
    "# ## Merge UTM Zone Files into WGS84\n",
    "# Merge all the generated UTM zone files into a single WGS84 file.\n",
    "merged_file = os.path.join(output_folder, \"merged_global_outlines.shp\")\n",
    "merge_utm_files_to_wgs84(\n",
    "    utm_folder=global_output_folder,\n",
    "    output_file=merged_file,\n",
    "    driver=\"ESRI Shapefile\"\n",
    ")\n",
    "\n",
    "print(f\"Merged global outlines saved to {merged_file}\")"
   ]
  },
  {
   "cell_type": "code",
   "execution_count": null,
   "metadata": {},
   "outputs": [],
   "source": [
    "# ## Visualize Merged Global Outlines\n",
    "# Load and plot the merged global outlines.\n",
    "merged_outlines_gdf = gpd.read_file(merged_file)\n",
    "\n",
    "merged_outlines_gdf.head()\n"
   ]
  },
  {
   "cell_type": "code",
   "execution_count": null,
   "metadata": {},
   "outputs": [],
   "source": [
    "# Save grid points to a GeoJSON file.\n",
    "grid_output_file = os.path.join(output_folder, f\"grid_{dist}km.shp\")\n",
    "grid_points_export = grid_points[[\"grid_cell\", \"geometry\"]].copy()\n",
    "grid_points_export.to_file(grid_output_file, driver=\"ESRI Shapefile\")\n",
    "print(f\"Grid points saved to {grid_output_file}\")"
   ]
  },
  {
   "cell_type": "code",
   "execution_count": null,
   "metadata": {},
   "outputs": [],
   "source": [
    "# ## Clean-Up Outputs\n",
    "# Optionally, clean up generated files.\n",
    "clean_up = False\n",
    "if clean_up:\n",
    "    import shutil\n",
    "    shutil.rmtree(output_folder)\n",
    "    print(\"Cleaned up all generated files.\")"
   ]
  },
  {
   "cell_type": "markdown",
   "metadata": {},
   "source": [
    "# Now, we can similarly work from the metadata parquet files"
   ]
  },
  {
   "cell_type": "code",
   "execution_count": 4,
   "metadata": {},
   "outputs": [],
   "source": [
    "# provide a folder path to the output folder\n",
    "# ### Create Output Directory\n",
    "# Set up directories to save output files.\n",
    "output_folder = \"test_filtered_output\"\n",
    "os.makedirs(output_folder, exist_ok=True)\n"
   ]
  },
  {
   "cell_type": "code",
   "execution_count": 5,
   "metadata": {},
   "outputs": [
    {
     "name": "stdout",
     "output_type": "stream",
     "text": [
      "Grid initialized with resolution: 10 km\n"
     ]
    }
   ],
   "source": [
    "# ### Initialize Grid\n",
    "# Create a `Grid` object with a 10 km grid resolution.\n",
    "dist = 10  # Grid resolution in kilometers\n",
    "grid = Grid(dist)\n",
    "print(\"Grid initialized with resolution:\", dist, \"km\")\n"
   ]
  },
  {
   "cell_type": "code",
   "execution_count": 16,
   "metadata": {},
   "outputs": [
    {
     "name": "stdout",
     "output_type": "stream",
     "text": [
      "Metadata loaded successfully!\n"
     ]
    }
   ],
   "source": [
    "# Get the S2L2A metadata file\n",
    "\n",
    "metadata_file = \"metadata_s2l2.parquet\"\n",
    "metadata = pd.read_parquet(metadata_file)\n",
    "print(\"Metadata loaded successfully!\")\n",
    "metadata['timestamp'] = pd.to_datetime(metadata.timestamp)\n",
    "gdf = gpd.GeoDataFrame(\n",
    "    metadata, geometry=gpd.points_from_xy(metadata.centre_lon, metadata.centre_lat), crs=metadata.crs.iloc[0]\n",
    ")"
   ]
  },
  {
   "cell_type": "code",
   "execution_count": 12,
   "metadata": {},
   "outputs": [],
   "source": [
    "def filter_metadata(df,\n",
    "                    region=None,\n",
    "                    daterange=None,\n",
    "                    cloud_cover=(0,100),\n",
    "                    nodata=(0, 1.0)\n",
    "                   ):\n",
    "    \"\"\"Filters the Major-TOM dataframe based on several parameters\n",
    "\n",
    "    Args:\n",
    "        df (geopandas dataframe): Parent dataframe\n",
    "        region (shapely geometry object) : Region of interest\n",
    "        daterange (tuple) : Inclusive range of dates (example format: '2020-01-01')\n",
    "        cloud_cover (tuple) : Inclusive percentage range (0-100) of cloud cover\n",
    "        nodata (tuple) : Inclusive fraction (0.0-1.0) of no data allowed in a sample\n",
    "\n",
    "    Returns:\n",
    "        df: a filtered dataframe\n",
    "    \"\"\"\n",
    "    # temporal filtering\n",
    "    if daterange is not None:\n",
    "        assert (isinstance(daterange, list) or isinstance(daterange, tuple)) and len(daterange)==2\n",
    "        df = df[df.timestamp >= daterange[0]]\n",
    "        df = df[df.timestamp <= daterange[1]]\n",
    "    \n",
    "    # spatial filtering\n",
    "    if region is not None:\n",
    "        idxs = df.sindex.query(region)\n",
    "        df = df.take(idxs)\n",
    "    # cloud filtering\n",
    "    if cloud_cover is not None:\n",
    "        df = df[df.cloud_cover >= cloud_cover[0]]\n",
    "        df = df[df.cloud_cover <= cloud_cover[1]]\n",
    "\n",
    "    # spatial filtering\n",
    "    if nodata is not None:\n",
    "        df = df[df.nodata >= nodata[0]]\n",
    "        df = df[df.nodata <= nodata[1]]\n",
    "\n",
    "    return df\n"
   ]
  },
  {
   "cell_type": "code",
   "execution_count": 17,
   "metadata": {},
   "outputs": [
    {
     "data": {
      "text/html": [
       "<div>\n",
       "<style scoped>\n",
       "    .dataframe tbody tr th:only-of-type {\n",
       "        vertical-align: middle;\n",
       "    }\n",
       "\n",
       "    .dataframe tbody tr th {\n",
       "        vertical-align: top;\n",
       "    }\n",
       "\n",
       "    .dataframe thead th {\n",
       "        text-align: right;\n",
       "    }\n",
       "</style>\n",
       "<table border=\"1\" class=\"dataframe\">\n",
       "  <thead>\n",
       "    <tr style=\"text-align: right;\">\n",
       "      <th></th>\n",
       "      <th>grid_cell</th>\n",
       "      <th>grid_row_u</th>\n",
       "      <th>grid_col_r</th>\n",
       "      <th>product_id</th>\n",
       "      <th>timestamp</th>\n",
       "      <th>cloud_cover</th>\n",
       "      <th>nodata</th>\n",
       "      <th>centre_lat</th>\n",
       "      <th>centre_lon</th>\n",
       "      <th>crs</th>\n",
       "      <th>parquet_url</th>\n",
       "      <th>parquet_row</th>\n",
       "      <th>geometry</th>\n",
       "    </tr>\n",
       "  </thead>\n",
       "  <tbody>\n",
       "    <tr>\n",
       "      <th>1591452</th>\n",
       "      <td>453U_119R</td>\n",
       "      <td>453</td>\n",
       "      <td>119</td>\n",
       "      <td>S2A_MSIL2A_20210510T100031_N0500_R122_T33TVF_2...</td>\n",
       "      <td>2021-05-10 10:00:31</td>\n",
       "      <td>0.000000</td>\n",
       "      <td>0.0</td>\n",
       "      <td>40.734109</td>\n",
       "      <td>14.155341</td>\n",
       "      <td>EPSG:32633</td>\n",
       "      <td>https://huggingface.co/datasets/Major-TOM/Core...</td>\n",
       "      <td>33</td>\n",
       "      <td>POINT (14.155 40.734)</td>\n",
       "    </tr>\n",
       "    <tr>\n",
       "      <th>1593374</th>\n",
       "      <td>454U_120R</td>\n",
       "      <td>454</td>\n",
       "      <td>120</td>\n",
       "      <td>S2B_MSIL2A_20220719T095559_N0400_R122_T33TVF_2...</td>\n",
       "      <td>2022-07-19 09:55:59</td>\n",
       "      <td>0.000000</td>\n",
       "      <td>0.0</td>\n",
       "      <td>40.823861</td>\n",
       "      <td>14.292709</td>\n",
       "      <td>EPSG:32633</td>\n",
       "      <td>https://huggingface.co/datasets/Major-TOM/Core...</td>\n",
       "      <td>455</td>\n",
       "      <td>POINT (14.293 40.824)</td>\n",
       "    </tr>\n",
       "    <tr>\n",
       "      <th>1595266</th>\n",
       "      <td>455U_120R</td>\n",
       "      <td>455</td>\n",
       "      <td>120</td>\n",
       "      <td>S2B_MSIL2A_20220719T095559_N0400_R122_T33TVF_2...</td>\n",
       "      <td>2022-07-19 09:55:59</td>\n",
       "      <td>0.000000</td>\n",
       "      <td>0.0</td>\n",
       "      <td>40.913671</td>\n",
       "      <td>14.311585</td>\n",
       "      <td>EPSG:32633</td>\n",
       "      <td>https://huggingface.co/datasets/Major-TOM/Core...</td>\n",
       "      <td>347</td>\n",
       "      <td>POINT (14.312 40.914)</td>\n",
       "    </tr>\n",
       "    <tr>\n",
       "      <th>1595265</th>\n",
       "      <td>455U_119R</td>\n",
       "      <td>455</td>\n",
       "      <td>119</td>\n",
       "      <td>S2A_MSIL2A_20200113T095351_N0500_R079_T33TVF_2...</td>\n",
       "      <td>2020-01-13 09:53:51</td>\n",
       "      <td>0.000000</td>\n",
       "      <td>0.0</td>\n",
       "      <td>40.913731</td>\n",
       "      <td>14.192730</td>\n",
       "      <td>EPSG:32633</td>\n",
       "      <td>https://huggingface.co/datasets/Major-TOM/Core...</td>\n",
       "      <td>346</td>\n",
       "      <td>POINT (14.193 40.914)</td>\n",
       "    </tr>\n",
       "    <tr>\n",
       "      <th>1595264</th>\n",
       "      <td>455U_118R</td>\n",
       "      <td>455</td>\n",
       "      <td>118</td>\n",
       "      <td>S2A_MSIL2A_20230318T095031_N0509_R079_T33TVF_2...</td>\n",
       "      <td>2023-03-18 09:50:31</td>\n",
       "      <td>2.408506</td>\n",
       "      <td>0.0</td>\n",
       "      <td>40.913791</td>\n",
       "      <td>14.073875</td>\n",
       "      <td>EPSG:32633</td>\n",
       "      <td>https://huggingface.co/datasets/Major-TOM/Core...</td>\n",
       "      <td>345</td>\n",
       "      <td>POINT (14.074 40.914)</td>\n",
       "    </tr>\n",
       "  </tbody>\n",
       "</table>\n",
       "</div>"
      ],
      "text/plain": [
       "         grid_cell  grid_row_u  grid_col_r  \\\n",
       "1591452  453U_119R         453         119   \n",
       "1593374  454U_120R         454         120   \n",
       "1595266  455U_120R         455         120   \n",
       "1595265  455U_119R         455         119   \n",
       "1595264  455U_118R         455         118   \n",
       "\n",
       "                                                product_id  \\\n",
       "1591452  S2A_MSIL2A_20210510T100031_N0500_R122_T33TVF_2...   \n",
       "1593374  S2B_MSIL2A_20220719T095559_N0400_R122_T33TVF_2...   \n",
       "1595266  S2B_MSIL2A_20220719T095559_N0400_R122_T33TVF_2...   \n",
       "1595265  S2A_MSIL2A_20200113T095351_N0500_R079_T33TVF_2...   \n",
       "1595264  S2A_MSIL2A_20230318T095031_N0509_R079_T33TVF_2...   \n",
       "\n",
       "                  timestamp  cloud_cover  nodata  centre_lat  centre_lon  \\\n",
       "1591452 2021-05-10 10:00:31     0.000000     0.0   40.734109   14.155341   \n",
       "1593374 2022-07-19 09:55:59     0.000000     0.0   40.823861   14.292709   \n",
       "1595266 2022-07-19 09:55:59     0.000000     0.0   40.913671   14.311585   \n",
       "1595265 2020-01-13 09:53:51     0.000000     0.0   40.913731   14.192730   \n",
       "1595264 2023-03-18 09:50:31     2.408506     0.0   40.913791   14.073875   \n",
       "\n",
       "                crs                                        parquet_url  \\\n",
       "1591452  EPSG:32633  https://huggingface.co/datasets/Major-TOM/Core...   \n",
       "1593374  EPSG:32633  https://huggingface.co/datasets/Major-TOM/Core...   \n",
       "1595266  EPSG:32633  https://huggingface.co/datasets/Major-TOM/Core...   \n",
       "1595265  EPSG:32633  https://huggingface.co/datasets/Major-TOM/Core...   \n",
       "1595264  EPSG:32633  https://huggingface.co/datasets/Major-TOM/Core...   \n",
       "\n",
       "         parquet_row               geometry  \n",
       "1591452           33  POINT (14.155 40.734)  \n",
       "1593374          455  POINT (14.293 40.824)  \n",
       "1595266          347  POINT (14.312 40.914)  \n",
       "1595265          346  POINT (14.193 40.914)  \n",
       "1595264          345  POINT (14.074 40.914)  "
      ]
     },
     "execution_count": 17,
     "metadata": {},
     "output_type": "execute_result"
    }
   ],
   "source": [
    "filtered_df = filter_metadata(gdf,\n",
    "                              cloud_cover = (0,10), # cloud cover between 0% and 10%\n",
    "                              region=box(14.011710578,40.7015558593,14.423765416,41.1019258062), # you can try with different bounding boxes, like in the cell above\n",
    "                              daterange=('2020-01-01', '2025-01-01'), # temporal range\n",
    "                              nodata=(0.0,0.0) # only 0% of no data allowed\n",
    "                              )\n",
    "\n",
    "filtered_df.head()"
   ]
  },
  {
   "cell_type": "code",
   "execution_count": 19,
   "metadata": {},
   "outputs": [
    {
     "name": "stdout",
     "output_type": "stream",
     "text": [
      "Found 9 unique grid cells in metadata.\n",
      "Filtered grid points to 9 matching records.\n"
     ]
    }
   ],
   "source": [
    "filtered_points = grid.filter_gridpoints_from_metadata(filtered_df)"
   ]
  },
  {
   "cell_type": "code",
   "execution_count": 21,
   "metadata": {},
   "outputs": [
    {
     "name": "stdout",
     "output_type": "stream",
     "text": [
      "Subset of grid points with footprints:\n",
      "      grid_cell     utm_crs                                      utm_footprint\n",
      "1638  453U_119R  EPSG:32633  POLYGON ((434017.794305 4504244.40132, 434017....\n",
      "1637  454U_120R  EPSG:32633  POLYGON ((445697.420125 4514104.878801, 445697...\n",
      "1633  455U_118R  EPSG:32633  POLYGON ((427349.551347 4524259.936869, 427349...\n",
      "1634  455U_119R  EPSG:32633  POLYGON ((437358.568485 4524154.14666, 437358....\n",
      "1635  455U_120R  EPSG:32633  POLYGON ((447367.539888 4524061.936163, 447367...\n",
      "1631  456U_118R  EPSG:32633  POLYGON ((429020.402583 4534213.513238, 429020...\n",
      "1632  456U_119R  EPSG:32633  POLYGON ((439029.079893 4534109.665314, 439029...\n",
      "1629  457U_118R  EPSG:32633  POLYGON ((430691.345607 4544167.511129, 430691...\n",
      "1631  457U_120R  EPSG:32633  POLYGON ((450707.928244 4543977.390889, 450707...\n"
     ]
    }
   ],
   "source": [
    "subset_with_footprints = generate_product_outlines(\n",
    "    filtered_points, get_footprints=True\n",
    ")\n",
    "\n",
    "print(\"Subset of grid points with footprints:\")\n",
    "print(subset_with_footprints[[\"grid_cell\", \"utm_crs\", \"utm_footprint\"]])"
   ]
  },
  {
   "cell_type": "markdown",
   "metadata": {},
   "source": [
    "# Conclusion\n",
    "### This notebook shows how to get the actual product polygons of the dataset from the grid class without having to download the data, including generating outlines, working with UTM zones, saving files, and retrieving utm footprints.\n"
   ]
  },
  {
   "cell_type": "code",
   "execution_count": null,
   "metadata": {},
   "outputs": [],
   "source": []
  }
 ],
 "metadata": {
  "kernelspec": {
   "display_name": "PytKerasNewHQ",
   "language": "python",
   "name": "python3"
  },
  "language_info": {
   "codemirror_mode": {
    "name": "ipython",
    "version": 3
   },
   "file_extension": ".py",
   "mimetype": "text/x-python",
   "name": "python",
   "nbconvert_exporter": "python",
   "pygments_lexer": "ipython3",
   "version": "3.11.7"
  }
 },
 "nbformat": 4,
 "nbformat_minor": 2
}
